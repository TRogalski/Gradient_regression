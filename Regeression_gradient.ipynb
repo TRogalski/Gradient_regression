{
 "cells": [
  {
   "cell_type": "code",
   "execution_count": 130,
   "metadata": {},
   "outputs": [
    {
     "data": {
      "image/png": "[encoded data removed]",
      "text/plain": [
       "<matplotlib.figure.Figure at 0x15aec717e10>"
      ]
     },
     "metadata": {},
     "output_type": "display_data"
    }
   ],
   "source": [
    "import numpy as np\n",
    "import matplotlib.pyplot as plt\n",
    "import copy\n",
    "from numpy.linalg import inv\n",
    "\n",
    "\n",
    "x=np.array([[1,1,1,1,1,1,1,1,1,1,1,1,1,1,1,1],\n",
    "            [10.3,10.3,10.1,9.3,8.4,7.3,8.4,7.9,7.6,7.6,6.9,7.4,8.1,7.0,6.5,5.8]])\n",
    "y=np.array([183800,183200,174900,173500,172900,173200,173200,169700,174500,177900,\n",
    "            188100,203200,230200,258200,309800,329800])\n",
    "\n",
    "plt.plot(y)\n",
    "plt.show()"
   ]
  },
  {
   "cell_type": "code",
   "execution_count": null,
   "metadata": {},
   "outputs": [],
   "source": []
  },
  {
   "cell_type": "code",
   "execution_count": 131,
   "metadata": {},
   "outputs": [
    {
     "data": {
      "text/plain": [
       "16"
      ]
     },
     "execution_count": 131,
     "metadata": {},
     "output_type": "execute_result"
    }
   ],
   "source": [
    "len(y)"
   ]
  },
  {
   "cell_type": "code",
   "execution_count": 132,
   "metadata": {},
   "outputs": [
    {
     "data": {
      "text/plain": [
       "array([[  1. ,  10.3],\n",
       "       [  1. ,  10.3],\n",
       "       [  1. ,  10.1],\n",
       "       [  1. ,   9.3],\n",
       "       [  1. ,   8.4],\n",
       "       [  1. ,   7.3],\n",
       "       [  1. ,   8.4],\n",
       "       [  1. ,   7.9],\n",
       "       [  1. ,   7.6],\n",
       "       [  1. ,   7.6],\n",
       "       [  1. ,   6.9],\n",
       "       [  1. ,   7.4],\n",
       "       [  1. ,   8.1],\n",
       "       [  1. ,   7. ],\n",
       "       [  1. ,   6.5],\n",
       "       [  1. ,   5.8]])"
      ]
     },
     "execution_count": 132,
     "metadata": {},
     "output_type": "execute_result"
    }
   ],
   "source": [
    "np.transpose(x)\n"
   ]
  },
  {
   "cell_type": "code",
   "execution_count": 133,
   "metadata": {},
   "outputs": [
    {
     "data": {
      "text/plain": [
       "array([183800, 183200, 174900, 173500, 172900, 173200, 173200, 169700,\n",
       "       174500, 177900, 188100, 203200, 230200, 258200, 309800, 329800])"
      ]
     },
     "execution_count": 133,
     "metadata": {},
     "output_type": "execute_result"
    }
   ],
   "source": [
    "np.transpose(y)"
   ]
  },
  {
   "cell_type": "code",
   "execution_count": 134,
   "metadata": {},
   "outputs": [
    {
     "data": {
      "text/plain": [
       "array([ 393348.61626768,  -23409.4481015 ])"
      ]
     },
     "execution_count": 134,
     "metadata": {},
     "output_type": "execute_result"
    }
   ],
   "source": [
    "#normal equation parameters\n",
    "\n",
    "normal_eq_theta=np.matmul(inv(np.matmul(x,np.transpose(x))),np.matmul(x,y))\n",
    "normal_eq_theta"
   ]
  },
  {
   "cell_type": "code",
   "execution_count": 135,
   "metadata": {},
   "outputs": [
    {
     "data": {
      "text/plain": [
       "array([ 152231.30082227,  152231.30082227,  156913.19044256,\n",
       "        175640.74892376,  196709.25221511,  222459.64512676,\n",
       "        196709.25221511,  208413.97626586,  215436.81069631,\n",
       "        215436.81069631,  231823.42436735,  220118.70031661,\n",
       "        203732.08664556,  229482.4795572 ,  241187.20360795,  257573.817279  ])"
      ]
     },
     "execution_count": 135,
     "metadata": {},
     "output_type": "execute_result"
    }
   ],
   "source": [
    "np.matmul(np.transpose(x),normal_eq_theta)"
   ]
  },
  {
   "cell_type": "code",
   "execution_count": 139,
   "metadata": {},
   "outputs": [
    {
     "data": {
      "text/plain": [
       "array([ 392242.22269168,  -23275.59895365])"
      ]
     },
     "execution_count": 139,
     "metadata": {},
     "output_type": "execute_result"
    }
   ],
   "source": [
    "alfa=0.01\n",
    "convergence=False\n",
    "theta=np.array([0,0])\n",
    "new_theta=([0,0])\n",
    "buka=[]\n",
    "\n",
    "cost_previous=1/(2*len(y))*np.sum(np.power((np.matmul(np.transpose(x),theta)-y),2))\n",
    "while not convergence:\n",
    "    for i in range(len(theta)):\n",
    "        new_theta[i]=theta[i]-alfa*1/len(y)*np.sum((np.matmul(np.transpose(x),theta)-y)*x[i])\n",
    "    cost_current=1/(2*len(y))*np.sum(np.power((np.matmul(np.transpose(x),new_theta)-y),2))\n",
    "    if abs(cost_previous-cost_current)<10^2:\n",
    "        convergence=True\n",
    "    else:\n",
    "        cost_previous=1/(2*len(y))*np.sum(np.power((np.matmul(np.transpose(x),new_theta)-y),2))\n",
    "    theta=np.copy(new_theta)\n",
    "    buka.append(cost_current)\n",
    "theta"
   ]
  },
  {
   "cell_type": "code",
   "execution_count": 140,
   "metadata": {},
   "outputs": [
    {
     "data": {
      "text/plain": [
       "[<matplotlib.lines.Line2D at 0x15aed08c400>]"
      ]
     },
     "execution_count": 140,
     "metadata": {},
     "output_type": "execute_result"
    }
   ],
   "source": [
    "plt.plot(buka)"
   ]
  },
  {
   "cell_type": "code",
   "execution_count": 141,
   "metadata": {},
   "outputs": [
    {
     "data": {
      "image/png": "[encoded data removed]",
      "text/plain": [
       "<matplotlib.figure.Figure at 0x15aef7f7668>"
      ]
     },
     "metadata": {},
     "output_type": "display_data"
    }
   ],
   "source": [
    "plt.show()"
   ]
  },
  {
   "cell_type": "code",
   "execution_count": 142,
   "metadata": {},
   "outputs": [
    {
     "data": {
      "text/plain": [
       "array([-31296.4465309 , -30696.4465309 , -17741.32674017,   2279.15242275,\n",
       "        23827.19148103,  49130.35033005,  23527.19148103,  38664.99095786,\n",
       "        40847.67064395,  37447.67064395,  43540.58991151,  16802.79043468,\n",
       "       -26490.12883287, -28886.96998386, -68849.17050703, -72556.25123948])"
      ]
     },
     "execution_count": 142,
     "metadata": {},
     "output_type": "execute_result"
    }
   ],
   "source": [
    "np.matmul(np.transpose(x),theta)-y"
   ]
  },
  {
   "cell_type": "code",
   "execution_count": 105,
   "metadata": {},
   "outputs": [
    {
     "data": {
      "text/plain": [
       "array([ 1.,  1.,  1.,  1.,  1.,  1.,  1.,  1.,  1.,  1.,  1.,  1.,  1.,\n",
       "        1.,  1.,  1.])"
      ]
     },
     "execution_count": 105,
     "metadata": {},
     "output_type": "execute_result"
    }
   ],
   "source": []
  },
  {
   "cell_type": "code",
   "execution_count": null,
   "metadata": {
    "collapsed": true
   },
   "outputs": [],
   "source": []
  }
 ],
 "metadata": {
  "kernelspec": {
   "display_name": "Python 3",
   "language": "python",
   "name": "python3"
  },
  "language_info": {
   "codemirror_mode": {
    "name": "ipython",
    "version": 3
   },
   "file_extension": ".py",
   "mimetype": "text/x-python",
   "name": "python",
   "nbconvert_exporter": "python",
   "pygments_lexer": "ipython3",
   "version": "3.6.3"
  }
 },
 "nbformat": 4,
 "nbformat_minor": 2
}
